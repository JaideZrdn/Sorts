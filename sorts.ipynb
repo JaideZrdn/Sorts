{
 "cells": [
  {
   "cell_type": "markdown",
   "source": [
    "# Sorts\n",
    "## 1. **Bubble Sort**"
   ],
   "metadata": {
    "collapsed": false
   },
   "id": "ae2df1aa4f2f4925"
  },
  {
   "cell_type": "code",
   "execution_count": null,
   "outputs": [],
   "source": [
    "def bubblesort(lista):\n",
    "\n",
    "    if len(lista) == 0:\n",
    "        return []\n",
    "    for i in range(len(lista)-2):\n",
    "        if lista[i] > lista[i+1]:\n",
    "            lista[i], lista[i+1] = lista[i+1], lista[i]\n",
    "    return bubblesort(lista[0:(len(lista)-1)]) + [lista[-1]]\n",
    "    "
   ],
   "metadata": {
    "collapsed": false
   },
   "id": "242c246aea94698"
  },
  {
   "cell_type": "markdown",
   "source": [
    "## 2. **Selection Sort**"
   ],
   "metadata": {
    "collapsed": false
   },
   "id": "534ac4ffa2171490"
  },
  {
   "cell_type": "code",
   "execution_count": null,
   "outputs": [],
   "source": [
    "def selectionsort(lista):\n",
    "    \n",
    "    if len(lista) == 0: return []\n",
    "    mini = min(lista)\n",
    "    lista.remove(mini)\n",
    "    return [mini] + selectionsort(lista"
   ],
   "metadata": {
    "collapsed": false
   },
   "id": "3d11ddbb50967d45"
  }
 ],
 "metadata": {
  "kernelspec": {
   "display_name": "Python 3",
   "language": "python",
   "name": "python3"
  },
  "language_info": {
   "codemirror_mode": {
    "name": "ipython",
    "version": 2
   },
   "file_extension": ".py",
   "mimetype": "text/x-python",
   "name": "python",
   "nbconvert_exporter": "python",
   "pygments_lexer": "ipython2",
   "version": "2.7.6"
  }
 },
 "nbformat": 4,
 "nbformat_minor": 5
}
