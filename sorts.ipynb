{
 "cells": [
  {
   "cell_type": "markdown",
   "source": [
    "# Sorts\n",
    "## 1. **Bubble Sort**"
   ],
   "metadata": {
    "collapsed": false
   },
   "id": "ae2df1aa4f2f4925"
  },
  {
   "cell_type": "code",
   "execution_count": null,
   "outputs": [],
   "source": [
    "def bubble_sort(lista):\n",
    "\n",
    "    if len(lista) == 0:\n",
    "        return []\n",
    "    for i in range(len(lista)-2):\n",
    "        if lista[i] > lista[i+1]:\n",
    "            lista[i], lista[i+1] = lista[i+1], lista[i]\n",
    "    return bubble_sort(lista[0:(len(lista)-1)]) + [lista[-1]]\n",
    "    "
   ],
   "metadata": {
    "collapsed": false
   },
   "id": "242c246aea94698"
  },
  {
   "cell_type": "markdown",
   "source": [
    "## 2. **Selection Sort**"
   ],
   "metadata": {
    "collapsed": false
   },
   "id": "534ac4ffa2171490"
  },
  {
   "cell_type": "code",
   "execution_count": null,
   "outputs": [],
   "source": [
    "def selection_sort(lista):\n",
    "\n",
    "    n = len(lista)\n",
    "    for i in range(n):\n",
    "        indice_minimo = i\n",
    "        for j in range(i+1, n):\n",
    "            if lista[j] < lista[indice_minimo]:\n",
    "                indice_minimo = j\n",
    "        lista[i], lista[indice_minimo] = lista[indice_minimo], lista[i]\n",
    "        return lista"
   ],
   "metadata": {
    "collapsed": false
   },
   "id": "3d11ddbb50967d45"
  },
  {
   "cell_type": "markdown",
   "source": [
    "## 3. **Insertion Sort**"
   ],
   "metadata": {
    "collapsed": false
   },
   "id": "e6a1c86d0d7f09fb"
  },
  {
   "cell_type": "code",
   "execution_count": null,
   "outputs": [],
   "source": [
    "def insertion_sort(lista):\n",
    "    \n",
    "    for i in range(1, len(lista)):\n",
    "        chave = lista[i]\n",
    "        j = i - 1\n",
    "        while j>=0 and lista[j]>chave:\n",
    "            lista[j+1] = lista[j]\n",
    "            j -= 1\n",
    "        lista[j+1] = chave\n",
    "    return lista"
   ],
   "metadata": {
    "collapsed": false
   },
   "id": "98cde9fd861364dd"
  },
  {
   "cell_type": "markdown",
   "source": [
    "## 4. **Merge Sort**"
   ],
   "metadata": {
    "collapsed": false
   },
   "id": "947e2b14c733a421"
  },
  {
   "cell_type": "code",
   "execution_count": null,
   "outputs": [],
   "source": [
    "def merge_sort(lista):\n",
    "    if len(lista) <= 1: return lista\n",
    "    def intercala(xs, ys):\n",
    "        if len(xs) == 0 or len(ys) == 0: return xs+ys\n",
    "        elif xs[0]<ys[0]: return [xs[0]] + intercala(xs[1:], ys)\n",
    "        else: return [ys[0]] + intercala(xs, ys[1:])\n",
    "    meio = len(lista)//2\n",
    "    n = merge_sort(lista[:meio])\n",
    "    m = merge_sort((lista[meio:]))\n",
    "    return intercala(m, n)"
   ],
   "metadata": {
    "collapsed": false
   },
   "id": "662d8511fecaf24a"
  },
  {
   "cell_type": "markdown",
   "source": [
    "## 5. **Quick Sort**"
   ],
   "metadata": {
    "collapsed": false
   },
   "id": "ae3c4b34813ebdb5"
  },
  {
   "cell_type": "code",
   "execution_count": null,
   "outputs": [],
   "source": [
    "def quick_sort(lista):\n",
    "\n",
    "    if len(lista) <= 1: return lista\n",
    "    pivo = lista[0]\n",
    "    menores = [x for x in lista[1:] if x <= pivo]\n",
    "    maiores = [x for x in lista[1:] if x > pivo]\n",
    "    return quick_sort(menores) + [pivo] + quick_sort(maiores)"
   ],
   "metadata": {
    "collapsed": false
   },
   "id": "a8ad907aed589fe9"
  }
 ],
 "metadata": {
  "kernelspec": {
   "display_name": "Python 3",
   "language": "python",
   "name": "python3"
  },
  "language_info": {
   "codemirror_mode": {
    "name": "ipython",
    "version": 2
   },
   "file_extension": ".py",
   "mimetype": "text/x-python",
   "name": "python",
   "nbconvert_exporter": "python",
   "pygments_lexer": "ipython2",
   "version": "2.7.6"
  }
 },
 "nbformat": 4,
 "nbformat_minor": 5
}
