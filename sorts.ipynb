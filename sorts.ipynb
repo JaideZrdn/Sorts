{
 "cells": [
  {
   "cell_type": "raw",
   "source": [
    "##%% md\n",
    " Sort Types\n"
   ],
   "metadata": {
    "collapsed": false
   },
   "id": "bf7536c76d334312"
  }
 ],
 "metadata": {
  "kernelspec": {
   "display_name": "Python 3",
   "language": "python",
   "name": "python3"
  },
  "language_info": {
   "codemirror_mode": {
    "name": "ipython",
    "version": 2
   },
   "file_extension": ".py",
   "mimetype": "text/x-python",
   "name": "python",
   "nbconvert_exporter": "python",
   "pygments_lexer": "ipython2",
   "version": "2.7.6"
  }
 },
 "nbformat": 4,
 "nbformat_minor": 5
}
